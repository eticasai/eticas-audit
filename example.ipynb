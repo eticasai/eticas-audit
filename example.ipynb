{
 "cells": [
  {
   "cell_type": "code",
   "execution_count": 1,
   "metadata": {},
   "outputs": [],
   "source": []
  },
  {
   "cell_type": "code",
   "execution_count": 1,
   "metadata": {},
   "outputs": [
    {
     "name": "stderr",
     "output_type": "stream",
     "text": [
      "[INFO] numexpr.utils - NumExpr defaulting to 8 threads.\n",
      "[INFO] eticas.model.ml_model - Running training audit for model: ML Testing Regression\n",
      "[INFO] eticas.audit.labeled_audit - Running training audit on model 'ML Testing Regression'\n",
      "[INFO] eticas.data.loaders - Dataset successfully loaded from files/example_training_binary_2.csv (CSV).\n",
      "[INFO] eticas.audit.labeled_audit - Training data loaded '(10000, 14)'\n",
      "[INFO] eticas.metrics.da_inconsistency - Completed: 'Da_inconsistency'\n",
      "[INFO] eticas.metrics.da_positive - Completed: 'Da_positive'\n",
      "[INFO] eticas.metrics.dxa_inconsistency - Completed: 'Dxa_inconsistency'\n",
      "[INFO] eticas.metrics.da_informative - Completed: 'Da_informative'\n",
      "[INFO] eticas.metrics.d_statisticalparity - Completed: 'D_statisticalparity'\n",
      "[INFO] eticas.metrics.d_parity - Completed: 'D_parity'\n",
      "[INFO] eticas.metrics.performance - Completed: 'Performance'\n",
      "[INFO] eticas.metrics.d_equalodds - Completed: 'D_equalodds'\n",
      "[INFO] eticas.metrics.d_calibrated - Completed: 'D_calibrated'\n",
      "[INFO] eticas.model.ml_model - training audit finished for model: ML Testing Regression\n",
      "[INFO] eticas.model.ml_model - Running production audit for model: ML Testing Regression\n",
      "[INFO] eticas.audit.unlabeled_audit - Running production audit on model 'ML Testing Regression'\n",
      "[INFO] eticas.data.loaders - Dataset successfully loaded from files/example_operational_binary_2.csv (CSV).\n",
      "[INFO] eticas.audit.unlabeled_audit - production data loaded '(10000, 16)'\n",
      "[INFO] eticas.metrics.da_inconsistency - Completed: 'Da_inconsistency'\n",
      "[INFO] eticas.metrics.da_positive - Completed: 'Da_positive'\n",
      "[INFO] eticas.metrics.dxa_inconsistency - Completed: 'Dxa_inconsistency'\n",
      "[INFO] eticas.metrics.da_informative - Completed: 'Da_informative'\n",
      "[INFO] eticas.metrics.d_statisticalparity - Completed: 'D_statisticalparity'\n",
      "[INFO] eticas.metrics.d_parity - Completed: 'D_parity'\n",
      "[INFO] eticas.model.ml_model - Production audit finished for model: ML Testing Regression\n",
      "[INFO] eticas.model.ml_model - Running Impacted audit for model: ML Testing Regression\n",
      "[INFO] eticas.audit.unlabeled_audit - Running production audit on model 'ML Testing Regression'\n",
      "[INFO] eticas.data.loaders - Dataset successfully loaded from files/example_impact_binary_2.csv (CSV).\n",
      "[INFO] eticas.audit.unlabeled_audit - production data loaded '(10000, 18)'\n",
      "[INFO] eticas.metrics.da_inconsistency - Completed: 'Da_inconsistency'\n",
      "[INFO] eticas.metrics.da_positive - Completed: 'Da_positive'\n",
      "[INFO] eticas.metrics.dxa_inconsistency - Completed: 'Dxa_inconsistency'\n",
      "[INFO] eticas.metrics.da_informative - Completed: 'Da_informative'\n",
      "[INFO] eticas.metrics.d_statisticalparity - Completed: 'D_statisticalparity'\n",
      "[INFO] eticas.metrics.d_parity - Completed: 'D_parity'\n",
      "[INFO] eticas.model.ml_model - Impacted audit finished for model: ML Testing Regression\n",
      "[INFO] eticas.model.ml_model - Running Drift audit for model: ML Testing Regression\n",
      "[INFO] eticas.audit.drift_audit - Running drift audit on model 'ML Testing Regression'\n",
      "[INFO] eticas.data.loaders - Dataset successfully loaded from files/example_training_binary_2.csv (CSV).\n",
      "[INFO] eticas.audit.drift_audit - DEV data loaded '(10000, 14)'\n",
      "[INFO] eticas.data.loaders - Dataset successfully loaded from files/example_operational_binary_2.csv (CSV).\n",
      "[INFO] eticas.audit.drift_audit - PROD data loaded '(10000, 16)'\n",
      "[INFO] eticas.metrics.tdx_inconsistency - Completed: 'Tdx_inconsistency'\n",
      "[INFO] eticas.model.ml_model - Drift audit finished for model: ML Testing Regression\n"
     ]
    },
    {
     "ename": "AttributeError",
     "evalue": "'MLModel' object has no attribute 'df_results_metric'",
     "output_type": "error",
     "traceback": [
      "\u001b[0;31m---------------------------------------------------------------------------\u001b[0m",
      "\u001b[0;31mAttributeError\u001b[0m                            Traceback (most recent call last)",
      "Cell \u001b[0;32mIn[1], line 52\u001b[0m\n\u001b[1;32m     46\u001b[0m model\u001b[38;5;241m.\u001b[39mrun_impacted_audit(dataset_path \u001b[38;5;241m=\u001b[39m\u001b[38;5;124m'\u001b[39m\u001b[38;5;124mfiles/example_impact_binary_2.csv\u001b[39m\u001b[38;5;124m'\u001b[39m, \n\u001b[1;32m     47\u001b[0m                                                 output_column \u001b[38;5;241m=\u001b[39m \u001b[38;5;124m'\u001b[39m\u001b[38;5;124mrecorded_outcome\u001b[39m\u001b[38;5;124m'\u001b[39m,positive_output \u001b[38;5;241m=\u001b[39m [\u001b[38;5;241m1\u001b[39m])\n\u001b[1;32m     48\u001b[0m model\u001b[38;5;241m.\u001b[39mrun_drift_audit(dataset_path_dev \u001b[38;5;241m=\u001b[39m \u001b[38;5;124m'\u001b[39m\u001b[38;5;124mfiles/example_training_binary_2.csv\u001b[39m\u001b[38;5;124m'\u001b[39m, \n\u001b[1;32m     49\u001b[0m                       output_column_dev \u001b[38;5;241m=\u001b[39m \u001b[38;5;124m'\u001b[39m\u001b[38;5;124moutcome\u001b[39m\u001b[38;5;124m'\u001b[39m, positive_output_dev \u001b[38;5;241m=\u001b[39m [\u001b[38;5;241m1\u001b[39m],\n\u001b[1;32m     50\u001b[0m                     dataset_path_prod \u001b[38;5;241m=\u001b[39m \u001b[38;5;124m'\u001b[39m\u001b[38;5;124mfiles/example_operational_binary_2.csv\u001b[39m\u001b[38;5;124m'\u001b[39m, \n\u001b[1;32m     51\u001b[0m                       output_column_prod \u001b[38;5;241m=\u001b[39m \u001b[38;5;124m'\u001b[39m\u001b[38;5;124mpredicted_outcome\u001b[39m\u001b[38;5;124m'\u001b[39m, positive_output_prod \u001b[38;5;241m=\u001b[39m [\u001b[38;5;241m1\u001b[39m])\n\u001b[0;32m---> 52\u001b[0m audit_result \u001b[38;5;241m=\u001b[39m \u001b[43mmodel\u001b[49m\u001b[38;5;241;43m.\u001b[39;49m\u001b[43mdf_results\u001b[49m\u001b[43m(\u001b[49m\u001b[43mnorm_values\u001b[49m\u001b[38;5;241;43m=\u001b[39;49m\u001b[38;5;28;43;01mFalse\u001b[39;49;00m\u001b[43m)\u001b[49m\n",
      "File \u001b[0;32m~/Documents/eticas/Code/eticas-audit/eticas/model/ml_model.py:363\u001b[0m, in \u001b[0;36mMLModel.df_results\u001b[0;34m(self, norm_values)\u001b[0m\n\u001b[1;32m    361\u001b[0m     \u001b[38;5;28;01mreturn\u001b[39;00m \u001b[38;5;28mself\u001b[39m\u001b[38;5;241m.\u001b[39mdf_results_norm()\n\u001b[1;32m    362\u001b[0m \u001b[38;5;28;01melse\u001b[39;00m:\n\u001b[0;32m--> 363\u001b[0m     \u001b[38;5;28;01mreturn\u001b[39;00m \u001b[38;5;28;43mself\u001b[39;49m\u001b[38;5;241;43m.\u001b[39;49m\u001b[43mdf_results_metric\u001b[49m()\n",
      "\u001b[0;31mAttributeError\u001b[0m: 'MLModel' object has no attribute 'df_results_metric'"
     ]
    }
   ],
   "source": [
    "import logging\n",
    "logging.basicConfig(\n",
    "    level=logging.INFO,\n",
    "    format='[%(levelname)s] %(name)s - %(message)s'\n",
    ")\n",
    "sensitive_attributes = {'sex' : {'columns' : [\n",
    "                                            {\n",
    "                                            \"name\": \"sex\",\n",
    "                                            \"underprivileged\": [2]\n",
    "                                            }\n",
    "                                        ],\n",
    "                             'type' : 'simple'},\n",
    "                        'ethnicity' : {'columns' : [\n",
    "                                                                {\n",
    "                                                                \"name\": \"ethnicity\",\n",
    "                                                                \"privileged\": [1]\n",
    "                                                                }\n",
    "                                                            ],\n",
    "                                                'type' : 'simple'},\n",
    "                        'age' : {'columns' : [\n",
    "                                            {\n",
    "                                            \"name\": \"age\",\n",
    "                                            \"privileged\": [3,4]\n",
    "                                            }\n",
    "                                        ],\n",
    "                             'type' : 'simple'},\n",
    "                        'sex_ethnicity' : {'groups' : [\"sex\",\"ethnicity\"],\n",
    "                                                        'type' : 'complex'}}\n",
    "\n",
    "\n",
    "from eticas.model.ml_model import MLModel\n",
    "model = MLModel(\n",
    "    model_name=\"ML Testing Regression\",\n",
    "    description=\"A logistic regression model to illustrate audits\",\n",
    "    country=\"USA\",\n",
    "    state=\"CA\",\n",
    "    sensitive_attributes=sensitive_attributes,\n",
    "    features=[\"feature_0\", \"feature_1\", \"feature_2\"]\n",
    ")\n",
    "\n",
    "\n",
    "model.run_training_audit(dataset_path ='files/example_training_binary_2.csv', \n",
    "                                                label_column = 'outcome', output_column = 'predicted_outcome',positive_output = [1])\n",
    "model.run_production_audit(dataset_path ='files/example_operational_binary_2.csv', \n",
    "                                                output_column = 'predicted_outcome',positive_output = [1])\n",
    "model.run_impacted_audit(dataset_path ='files/example_impact_binary_2.csv', \n",
    "                                                output_column = 'recorded_outcome',positive_output = [1])\n",
    "model.run_drift_audit(dataset_path_dev = 'files/example_training_binary_2.csv', \n",
    "                      output_column_dev = 'outcome', positive_output_dev = [1],\n",
    "                    dataset_path_prod = 'files/example_operational_binary_2.csv', \n",
    "                      output_column_prod = 'predicted_outcome', positive_output_prod = [1])\n",
    "audit_result = model.df_results(norm_values=False)"
   ]
  },
  {
   "cell_type": "code",
   "execution_count": null,
   "metadata": {},
   "outputs": [
    {
     "data": {
      "text/plain": [
       "{'ref': 80,\n",
       " 'training_DI': 0.99,\n",
       " 'training_SPD': -0.0,\n",
       " 'training_TPR': 1.0364,\n",
       " 'training_FPR': 1.0131,\n",
       " 'training_PPV': 1.0364,\n",
       " 'training_PNV': 1.0131,\n",
       " 'operational_DI': 0.57,\n",
       " 'operational_SPD': -0.24,\n",
       " 'impact_DI': 0.34,\n",
       " 'impact_SPD': -0.44}"
      ]
     },
     "execution_count": 3,
     "metadata": {},
     "output_type": "execute_result"
    }
   ],
   "source": [
    "audit_result"
   ]
  },
  {
   "cell_type": "code",
   "execution_count": 6,
   "metadata": {},
   "outputs": [
    {
     "data": {
      "text/plain": [
       "{'ref': 80,\n",
       " 'training_DI': 98.0,\n",
       " 'training_SPD': 98.0,\n",
       " 'training_TPR': 96.82,\n",
       " 'training_FPR': 99.76,\n",
       " 'training_PPV': 96.82,\n",
       " 'training_PNV': 99.76,\n",
       " 'impact_DI': 99.0,\n",
       " 'impact_SPD': 98.0}"
      ]
     },
     "execution_count": 6,
     "metadata": {},
     "output_type": "execute_result"
    }
   ],
   "source": [
    "audit_result['age']['fairness']"
   ]
  },
  {
   "cell_type": "code",
   "execution_count": 2,
   "metadata": {},
   "outputs": [
    {
     "data": {
      "text/plain": [
       "{'sex': {'correlation': 0.0109,\n",
       "  'proportion': 0.6,\n",
       "  'rate': 0.0109,\n",
       "  'normalized_risk': 99.128,\n",
       "  'bias_level': 'Low/no bias'},\n",
       " 'ethnicity': {'correlation': 0.0045,\n",
       "  'proportion': 0.6,\n",
       "  'rate': 0.0045,\n",
       "  'normalized_risk': 99.64,\n",
       "  'bias_level': 'Low/no bias'},\n",
       " 'age': {'correlation': 0.009,\n",
       "  'proportion': 0.5522,\n",
       "  'rate': 0.009,\n",
       "  'normalized_risk': 99.28,\n",
       "  'bias_level': 'Low/no bias'},\n",
       " 'sex_ethnicity': {'correlation': 0.0043,\n",
       "  'proportion': 0.75,\n",
       "  'rate': 0.0043,\n",
       "  'normalized_risk': 99.656,\n",
       "  'bias_level': 'Low/no bias'}}"
      ]
     },
     "execution_count": 2,
     "metadata": {},
     "output_type": "execute_result"
    }
   ],
   "source": [
    "model.training_results['dxa_inconsistency']"
   ]
  },
  {
   "cell_type": "code",
   "execution_count": 4,
   "metadata": {},
   "outputs": [
    {
     "ename": "ValueError",
     "evalue": "list.remove(x): x not in list",
     "output_type": "error",
     "traceback": [
      "\u001b[0;31m---------------------------------------------------------------------------\u001b[0m",
      "\u001b[0;31mValueError\u001b[0m                                Traceback (most recent call last)",
      "Cell \u001b[0;32mIn[4], line 1\u001b[0m\n\u001b[0;32m----> 1\u001b[0m \u001b[43mlista\u001b[49m\u001b[38;5;241;43m.\u001b[39;49m\u001b[43mremove\u001b[49m\u001b[43m(\u001b[49m\u001b[38;5;124;43m'\u001b[39;49m\u001b[38;5;124;43ma\u001b[39;49m\u001b[38;5;124;43m'\u001b[39;49m\u001b[43m)\u001b[49m\n\u001b[1;32m      2\u001b[0m lista\n",
      "\u001b[0;31mValueError\u001b[0m: list.remove(x): x not in list"
     ]
    }
   ],
   "source": [
    "lista.remove('a')\n",
    "lista"
   ]
  },
  {
   "cell_type": "code",
   "execution_count": 6,
   "metadata": {},
   "outputs": [],
   "source": [
    "import pandas as pd\n",
    "df = pd.DataFrame(columns=['metric','group','stage','value','comments'])\n",
    "df = df.set_index(['metric','group','stage'])\n"
   ]
  },
  {
   "cell_type": "code",
   "execution_count": 8,
   "metadata": {},
   "outputs": [],
   "source": [
    "df.loc[('da','age','training'),'value'] = 5"
   ]
  },
  {
   "cell_type": "code",
   "execution_count": 9,
   "metadata": {},
   "outputs": [
    {
     "data": {
      "text/html": [
       "<div>\n",
       "<style scoped>\n",
       "    .dataframe tbody tr th:only-of-type {\n",
       "        vertical-align: middle;\n",
       "    }\n",
       "\n",
       "    .dataframe tbody tr th {\n",
       "        vertical-align: top;\n",
       "    }\n",
       "\n",
       "    .dataframe thead th {\n",
       "        text-align: right;\n",
       "    }\n",
       "</style>\n",
       "<table border=\"1\" class=\"dataframe\">\n",
       "  <thead>\n",
       "    <tr style=\"text-align: right;\">\n",
       "      <th></th>\n",
       "      <th></th>\n",
       "      <th></th>\n",
       "      <th>value</th>\n",
       "      <th>comments</th>\n",
       "    </tr>\n",
       "    <tr>\n",
       "      <th>metric</th>\n",
       "      <th>group</th>\n",
       "      <th>stage</th>\n",
       "      <th></th>\n",
       "      <th></th>\n",
       "    </tr>\n",
       "  </thead>\n",
       "  <tbody>\n",
       "    <tr>\n",
       "      <th>da</th>\n",
       "      <th>age</th>\n",
       "      <th>training</th>\n",
       "      <td>5</td>\n",
       "      <td>NaN</td>\n",
       "    </tr>\n",
       "  </tbody>\n",
       "</table>\n",
       "</div>"
      ],
      "text/plain": [
       "                      value comments\n",
       "metric group stage                  \n",
       "da     age   training     5      NaN"
      ]
     },
     "execution_count": 9,
     "metadata": {},
     "output_type": "execute_result"
    }
   ],
   "source": [
    "df"
   ]
  },
  {
   "cell_type": "code",
   "execution_count": 11,
   "metadata": {},
   "outputs": [
    {
     "name": "stdout",
     "output_type": "stream",
     "text": [
      "1\n"
     ]
    }
   ],
   "source": [
    "if {'hola':1} :\n",
    "    print(1)"
   ]
  },
  {
   "cell_type": "code",
   "execution_count": null,
   "metadata": {},
   "outputs": [],
   "source": []
  }
 ],
 "metadata": {
  "kernelspec": {
   "display_name": "itaca",
   "language": "python",
   "name": "python3"
  },
  "language_info": {
   "codemirror_mode": {
    "name": "ipython",
    "version": 3
   },
   "file_extension": ".py",
   "mimetype": "text/x-python",
   "name": "python",
   "nbconvert_exporter": "python",
   "pygments_lexer": "ipython3",
   "version": "3.11.9"
  }
 },
 "nbformat": 4,
 "nbformat_minor": 2
}
